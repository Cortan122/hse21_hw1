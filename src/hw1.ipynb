{
  "nbformat": 4,
  "nbformat_minor": 0,
  "metadata": {
    "colab": {
      "name": "hw1.ipynb",
      "provenance": [],
      "collapsed_sections": []
    },
    "kernelspec": {
      "name": "python3",
      "display_name": "Python 3"
    },
    "language_info": {
      "name": "python"
    }
  },
  "cells": [
    {
      "cell_type": "code",
      "metadata": {
        "colab": {
          "base_uri": "https://localhost:8080/"
        },
        "id": "dYRLqGgyde5s",
        "outputId": "9a6c33b0-80fe-4d8c-92ff-c002a0204ba2"
      },
      "source": [
        "# клонируем репозиторию, чтобы ненадо было ручками заливать каждый файл на колаб\n",
        "!git clone https://github.com/Cortan122/hse21_hw1.git"
      ],
      "execution_count": 24,
      "outputs": [
        {
          "output_type": "stream",
          "name": "stdout",
          "text": [
            "Cloning into 'hse21_hw1'...\n",
            "remote: Enumerating objects: 26, done.\u001b[K\n",
            "remote: Counting objects: 100% (26/26), done.\u001b[K\n",
            "remote: Compressing objects: 100% (19/19), done.\u001b[K\n",
            "remote: Total 26 (delta 9), reused 23 (delta 6), pack-reused 0\u001b[K\n",
            "Unpacking objects: 100% (26/26), done.\n"
          ]
        }
      ]
    },
    {
      "cell_type": "markdown",
      "metadata": {
        "id": "C90RNZJ4kBoE"
      },
      "source": [
        "Написать код (в Jupiter ноутбуке и в <ins>Google Colab</ins>) для анализа полученных контигов:\n",
        "* общее количество контигов\n",
        "* их общая длина\n",
        "* длина самого длинного контига\n",
        "* N50\n",
        "> N50 определяется как самый короткий контиг при суммировании длин минимального числа контигов для получения суммы, большей или равной половине длины сборки генома.\n"
      ]
    },
    {
      "cell_type": "code",
      "metadata": {
        "colab": {
          "base_uri": "https://localhost:8080/"
        },
        "id": "tLk2XoApiBZz",
        "outputId": "7e134f4a-73a1-401e-97e6-87e6000694bd"
      },
      "source": [
        "def info(file):\n",
        "  lenghts = !grep '^>' $file | sed -E 's/^.*len([0-9]+).*$/\\1/'\n",
        "  nums = sorted((int(e) for e in lenghts), reverse=True)\n",
        "  total = sum(nums)\n",
        "\n",
        "  score = 0\n",
        "  for e in nums:\n",
        "    score += e\n",
        "    if score >= total/2:\n",
        "      N50 = e\n",
        "      break\n",
        "\n",
        "  print(f\"количество = {len(nums)}\")\n",
        "  print(f\"общая длина = {total}\")\n",
        "  print(f\"самый длинный = {nums[0]}\")\n",
        "  print(f\"N50 = {N50}\")\n",
        "\n",
        "info(\"hse21_hw1/data/contigs.fasta\")"
      ],
      "execution_count": 37,
      "outputs": [
        {
          "output_type": "stream",
          "name": "stdout",
          "text": [
            "количество = 610\n",
            "общая длина = 3925436\n",
            "самый длинный = 179307\n",
            "N50 = 55039\n"
          ]
        }
      ]
    },
    {
      "cell_type": "code",
      "metadata": {
        "colab": {
          "base_uri": "https://localhost:8080/"
        },
        "id": "YcjurEmwlrMR",
        "outputId": "4b205d53-cdca-4d9e-e87d-fe50fbe05497"
      },
      "source": [
        "# тоже самое но для скаффолдов\n",
        "info(\"hse21_hw1/data/scaffold_with_gaps.fasta\")"
      ],
      "execution_count": 38,
      "outputs": [
        {
          "output_type": "stream",
          "name": "stdout",
          "text": [
            "количество = 73\n",
            "общая длина = 3876314\n",
            "самый длинный = 3832485\n",
            "N50 = 3832485\n"
          ]
        }
      ]
    },
    {
      "cell_type": "markdown",
      "metadata": {
        "id": "U3CD1842tBmE"
      },
      "source": [
        "Для самого длинного скаффолда посчитать количество гэпов (участков, состоящих из букв NNNN) и их общую длину"
      ]
    },
    {
      "cell_type": "code",
      "metadata": {
        "colab": {
          "base_uri": "https://localhost:8080/"
        },
        "id": "aeLeFbkqozPT",
        "outputId": "d0c5d620-ea06-48a3-ebdc-3d8e825b120e"
      },
      "source": [
        "def gaps(file):\n",
        "  num = !grep -Ec 'N+' $file\n",
        "  total = !grep -Eo 'N+' $file | tr -cd 'N' | wc -c\n",
        "  print(f\"количество = {num[0]}\")\n",
        "  print(f\"общая длина = {total[0]}\")\n",
        "\n",
        "gaps(\"hse21_hw1/data/longest_with_gaps.fasta\")"
      ],
      "execution_count": 45,
      "outputs": [
        {
          "output_type": "stream",
          "name": "stdout",
          "text": [
            "количество = 136\n",
            "общая длина = 6582\n"
          ]
        }
      ]
    },
    {
      "cell_type": "code",
      "metadata": {
        "colab": {
          "base_uri": "https://localhost:8080/"
        },
        "id": "bsPf7b2NttQT",
        "outputId": "44d45c38-9fc2-4689-9ed8-1b6f634f3053"
      },
      "source": [
        "# тоже самое но после platanus gap_close\n",
        "gaps(\"hse21_hw1/data/longest.fasta\")"
      ],
      "execution_count": 46,
      "outputs": [
        {
          "output_type": "stream",
          "name": "stdout",
          "text": [
            "количество = 30\n",
            "общая длина = 1679\n"
          ]
        }
      ]
    },
    {
      "cell_type": "code",
      "metadata": {
        "id": "UANcnfuaudiD"
      },
      "source": [
        ""
      ],
      "execution_count": null,
      "outputs": []
    }
  ]
}